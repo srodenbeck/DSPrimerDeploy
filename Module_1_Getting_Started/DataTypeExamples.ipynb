{
 "cells": [
  {
   "cell_type": "markdown",
   "metadata": {},
   "source": [
    "# Module 1 Examples - Data Types\n",
    "\n",
    "The purpose of this notebook is to walk through some of the fundamentals of using python."
   ]
  },
  {
   "cell_type": "code",
   "execution_count": 6,
   "metadata": {},
   "outputs": [],
   "source": [
    "from IPython.core.interactiveshell import InteractiveShell\n",
    "InteractiveShell.ast_node_interactivity = \"all\""
   ]
  },
  {
   "cell_type": "markdown",
   "metadata": {},
   "source": [
    "### Essentials"
   ]
  },
  {
   "cell_type": "code",
   "execution_count": 4,
   "metadata": {},
   "outputs": [
    {
     "name": "stdout",
     "output_type": "stream",
     "text": [
      "hello\n"
     ]
    },
    {
     "data": {
      "text/plain": [
       "'12345'"
      ]
     },
     "execution_count": 4,
     "metadata": {},
     "output_type": "execute_result"
    }
   ],
   "source": [
    "print(\"hello\") #This represents a statement\n",
    "# anything with a \"#\" in front of it is a comment and is not executed\n",
    "a = '1' + '2' + '3' + \\\n",
    "    '4' + '5'  # backwards slash can be used to create a line break in a statement\n",
    "a"
   ]
  },
  {
   "cell_type": "markdown",
   "metadata": {},
   "source": [
    "### Data types and syntax\n",
    "\n",
    "In python, variables are untyped, meaning that you do not need to explicitly specify the type of the variable; variable types are inferred based on the format and syntax."
   ]
  },
  {
   "cell_type": "code",
   "execution_count": 6,
   "metadata": {},
   "outputs": [
    {
     "data": {
      "text/plain": [
       "(str, str)"
      ]
     },
     "execution_count": 6,
     "metadata": {},
     "output_type": "execute_result"
    },
    {
     "name": "stdout",
     "output_type": "stream",
     "text": [
      "True\n",
      "False\n"
     ]
    }
   ],
   "source": [
    "string_example1 = \"Hello\" #this assigns the var\n",
    "string_example2 = 'Hello' #both \"\" and '' can be used for strings\n",
    "type(string_example1), type(string_example2) #the type() function can be used to check what type a variable is\n",
    "\n",
    "print(string_example1 == 'Hello') #A double equal sign (==) is used to check for equaliy and will return True or False\n",
    "print(string_example1 == 12345)"
   ]
  },
  {
   "cell_type": "markdown",
   "metadata": {},
   "source": [
    "Variables can be reassigned to have values with a different type, however in this example this would no longer be a descriptive variable name"
   ]
  },
  {
   "cell_type": "code",
   "execution_count": 13,
   "metadata": {},
   "outputs": [
    {
     "data": {
      "text/plain": [
       "int"
      ]
     },
     "execution_count": 13,
     "metadata": {},
     "output_type": "execute_result"
    }
   ],
   "source": [
    "string_example1 = 123 \n",
    "type(string_example1)"
   ]
  },
  {
   "cell_type": "markdown",
   "metadata": {},
   "source": [
    "With numeric variables, you can generally perform math much as you would expect"
   ]
  },
  {
   "cell_type": "code",
   "execution_count": 8,
   "metadata": {},
   "outputs": [
    {
     "data": {
      "text/plain": [
       "72"
      ]
     },
     "execution_count": 8,
     "metadata": {},
     "output_type": "execute_result"
    },
    {
     "data": {
      "text/plain": [
       "37.0"
      ]
     },
     "execution_count": 8,
     "metadata": {},
     "output_type": "execute_result"
    }
   ],
   "source": [
    "num_example1 = 12\n",
    "num_example2 = 6\n",
    "num_example1*num_example2\n",
    "((4+num_example1*num_example2)-2)/2 "
   ]
  },
  {
   "cell_type": "markdown",
   "metadata": {},
   "source": [
    "When possible, the type of a value can also be converted"
   ]
  },
  {
   "cell_type": "code",
   "execution_count": 14,
   "metadata": {},
   "outputs": [
    {
     "name": "stdout",
     "output_type": "stream",
     "text": [
      "123\n",
      "<class 'str'>\n"
     ]
    }
   ],
   "source": [
    "string_example1 = str(string_example1) #this converts an integer into a string \n",
    "print(string_example1)\n",
    "print(type(string_example1))\n",
    "int(str)"
   ]
  },
  {
   "cell_type": "markdown",
   "metadata": {},
   "source": [
    "Variables can easily be used as placeholders in text with what are known as f-strings"
   ]
  },
  {
   "cell_type": "code",
   "execution_count": null,
   "metadata": {},
   "outputs": [],
   "source": [
    "name = \"Jane Doe\"\n",
    "print(f\"Hello, my name is {name}\") #f-strings allow you to easily reference and use variables in text"
   ]
  },
  {
   "cell_type": "markdown",
   "metadata": {},
   "source": [
    "### Basic String and List Operations"
   ]
  },
  {
   "cell_type": "code",
   "execution_count": 16,
   "metadata": {},
   "outputs": [
    {
     "name": "stdout",
     "output_type": "stream",
     "text": [
      "Hello world\n",
      "Hello world\n"
     ]
    },
    {
     "data": {
      "text/plain": [
       "5"
      ]
     },
     "execution_count": 16,
     "metadata": {},
     "output_type": "execute_result"
    },
    {
     "data": {
      "text/plain": [
       "10"
      ]
     },
     "execution_count": 16,
     "metadata": {},
     "output_type": "execute_result"
    }
   ],
   "source": [
    "w = \"world\"\n",
    "h = \"Hello\"\n",
    "print(h +\" \"+ w) #strings can be concatenated, or joined together\n",
    "\n",
    "#to add to the end of one variable (concatenated), or summed for integer values, you can also use the notation `+=`, which is the same as var = var + new\n",
    "h += \" \" +w\n",
    "print(h)\n",
    "\n",
    "first = 3\n",
    "second = 2\n",
    "first += second \n",
    "first\n",
    "\n",
    "# similar notation like *= and -= can also be used, e.g.:\n",
    "first *= second #remember, now the value of first = 5 and second is still equal to 2, so we are doing 5*2\n",
    "first"
   ]
  },
  {
   "cell_type": "markdown",
   "metadata": {},
   "source": [
    "Both lists and strings can be indexed, meaning that they can be referenced with and sliced based on their consituent parts (i.e. items in a list or characters in a string)."
   ]
  },
  {
   "cell_type": "code",
   "execution_count": 22,
   "metadata": {},
   "outputs": [
    {
     "name": "stdout",
     "output_type": "stream",
     "text": [
      "11\n",
      "Miss\n",
      "Miss\n",
      "issippi\n",
      "issippi\n",
      "pi\n"
     ]
    }
   ],
   "source": [
    "state = \"Mississippi\"\n",
    "print(len(state)) #prints the number of characters in a string\n",
    "print(state[0:4])\n",
    "print(state[:4]) #this is the same as above as 0 is used for the start when not specified\n",
    "\n",
    "print(state[4:11])\n",
    "print(state[4:]) #if end is not specified, the end of the string is used\n",
    "\n",
    "print(state[-2:]) #you can also use negative indices to count from the end instead of the beginning\n"
   ]
  },
  {
   "cell_type": "code",
   "execution_count": 1,
   "metadata": {},
   "outputs": [
    {
     "name": "stdout",
     "output_type": "stream",
     "text": [
      "3\n",
      "[1, 2, 3]\n"
     ]
    }
   ],
   "source": [
    "list_example = [1,2,3,\"a\",True] #lists can contain items of multiple types\n",
    "print(list_example[2]) #They can be indexed just like lists\n",
    "print(list_example[:3])"
   ]
  },
  {
   "cell_type": "markdown",
   "metadata": {},
   "source": [
    "You can also use string manipulation to change the contents of the string"
   ]
  },
  {
   "cell_type": "code",
   "execution_count": 2,
   "metadata": {},
   "outputs": [
    {
     "data": {
      "text/plain": [
       "'jdoe@purdue.edu'"
      ]
     },
     "execution_count": 2,
     "metadata": {},
     "output_type": "execute_result"
    }
   ],
   "source": [
    "email = \"jdoe@gmail.com\"\n",
    "email.replace('gmail.com','purdue.edu') #.replace(<value_to_replace>,<new_value>) can be used to replace a character or string with another character or string, or even remove it completely."
   ]
  },
  {
   "cell_type": "code",
   "execution_count": 8,
   "metadata": {},
   "outputs": [
    {
     "data": {
      "text/plain": [
       "['jdoe', 'gmail.com']"
      ]
     },
     "execution_count": 8,
     "metadata": {},
     "output_type": "execute_result"
    },
    {
     "data": {
      "text/plain": [
       "'jdoe'"
      ]
     },
     "execution_count": 8,
     "metadata": {},
     "output_type": "execute_result"
    },
    {
     "data": {
      "text/plain": [
       "'jdoeATgmail.com'"
      ]
     },
     "execution_count": 8,
     "metadata": {},
     "output_type": "execute_result"
    }
   ],
   "source": [
    "#If you don't know the index, you can also split on a particular character or substring, with the .split(<value_to_split_on>) function. Note thtat this will return a list.\n",
    "email_components = email.split('@') \n",
    "email_components\n",
    "#You can then access list elements separately, or join it back into a string\n",
    "username = email_components[0] #access elements separately\n",
    "username\n",
    "\n",
    "'AT'.join(email_components)# join back into a string with 'AT' denoting where the split used to be"
   ]
  },
  {
   "cell_type": "code",
   "execution_count": null,
   "metadata": {},
   "outputs": [],
   "source": []
  }
 ],
 "metadata": {
  "kernelspec": {
   "display_name": "module1",
   "language": "python",
   "name": "python3"
  },
  "language_info": {
   "codemirror_mode": {
    "name": "ipython",
    "version": 3
   },
   "file_extension": ".py",
   "mimetype": "text/x-python",
   "name": "python",
   "nbconvert_exporter": "python",
   "pygments_lexer": "ipython3",
   "version": "3.9.19"
  }
 },
 "nbformat": 4,
 "nbformat_minor": 2
}
